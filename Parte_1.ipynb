{
  "cells": [
    {
      "attachments": {},
      "cell_type": "markdown",
      "metadata": {
        "id": "ZsnJDrKNP3Cz"
      },
      "source": [
        "Notas del curso de Python Institute"
      ]
    },
    {
      "cell_type": "code",
      "execution_count": null,
      "metadata": {},
      "outputs": [],
      "source": [
        "pip install openai"
      ]
    },
    {
      "cell_type": "code",
      "execution_count": 4,
      "metadata": {},
      "outputs": [],
      "source": [
        "import openai\n",
        "from getpass import getpass"
      ]
    },
    {
      "cell_type": "code",
      "execution_count": 5,
      "metadata": {},
      "outputs": [],
      "source": [
        "api = getpass(\"Ingresa tu api: \")\n",
        "openai.api_key = api\n",
        "\n",
        "def get_completion(prompt, model=\"gpt-3.5-turbo\"):\n",
        "    messages = [{\"role\": \"user\", \"content\": prompt}]\n",
        "    response = openai.ChatCompletion.create(\n",
        "        model=model,\n",
        "        messages=messages,\n",
        "        temperature=0, # this is the degree of randomness of the model's output\n",
        "    )\n",
        "    return response.choices[0].message[\"content\"]"
      ]
    },
    {
      "cell_type": "code",
      "execution_count": 1,
      "metadata": {
        "colab": {
          "base_uri": "https://localhost:8080/"
        },
        "id": "DKI_Jv_0T6mi",
        "outputId": "2e2ff8cc-bc1e-429d-c131-0fac555a5ede"
      },
      "outputs": [
        {
          "name": "stdout",
          "output_type": "stream",
          "text": [
            "Hola, Mundo!\n"
          ]
        }
      ],
      "source": [
        "print(\"Hola, Mundo!\")"
      ]
    },
    {
      "cell_type": "code",
      "execution_count": null,
      "metadata": {
        "colab": {
          "base_uri": "https://localhost:8080/"
        },
        "id": "ybZxVDJwUAma",
        "outputId": "f51f3318-8a87-494f-f096-22359fe9aff9"
      },
      "outputs": [
        {
          "name": "stdout",
          "output_type": "stream",
          "text": [
            "Ejemplo de como producir una nueva linea\n",
            "\n",
            "Listo\n"
          ]
        }
      ],
      "source": [
        "print(\"Ejemplo de como producir una nueva linea\")\n",
        "print()\n",
        "print(\"Listo\")"
      ]
    },
    {
      "cell_type": "code",
      "execution_count": null,
      "metadata": {
        "colab": {
          "base_uri": "https://localhost:8080/"
        },
        "id": "Axc7pnarXA4Z",
        "outputId": "ebf1580f-55fc-4b74-ddaf-e6f98481a905"
      },
      "outputs": [
        {
          "name": "stdout",
          "output_type": "stream",
          "text": [
            "La Witsi Witsi Araña\n",
            "subió a su telaraña.\n",
            "\n",
            "\n",
            "Vino la lluvia\n",
            "y se la llevó.\n"
          ]
        }
      ],
      "source": [
        "#Ejemplo de nuevas lineas\n",
        "print(\"La Witsi Witsi Araña\\nsubió a su telaraña.\\n\")\n",
        "print()\n",
        "print(\"Vino la lluvia\\ny se la llevó.\")"
      ]
    },
    {
      "cell_type": "code",
      "execution_count": null,
      "metadata": {
        "colab": {
          "base_uri": "https://localhost:8080/"
        },
        "id": "0jEuOyVB3lbd",
        "outputId": "f647b3d5-8e75-4235-f548-8d7d3718b924"
      },
      "outputs": [
        {
          "name": "stdout",
          "output_type": "stream",
          "text": [
            "La Witsi Witsi Araña subió a su telaraña.\n",
            "Hola me llamo Geovani\n"
          ]
        }
      ],
      "source": [
        "print(\"La Witsi Witsi Araña\" , \"subió\" , \"a su telaraña.\")\n",
        "print(\"Hola me llamo\", \"Geovani\")"
      ]
    },
    {
      "cell_type": "code",
      "execution_count": null,
      "metadata": {
        "colab": {
          "base_uri": "https://localhost:8080/"
        },
        "id": "cLcmURTC_1z_",
        "outputId": "d72080c4-4729-44bd-814b-44ff3fda0029"
      },
      "outputs": [
        {
          "name": "stdout",
          "output_type": "stream",
          "text": [
            "Mi nombre es Python. Monty Python.\n"
          ]
        }
      ],
      "source": [
        "print(\"Mi nombre es\", \"Python.\", end=\" \")\n",
        "print(\"Monty Python.\")\n"
      ]
    },
    {
      "cell_type": "code",
      "execution_count": null,
      "metadata": {
        "colab": {
          "base_uri": "https://localhost:8080/"
        },
        "id": "L2UEr1xjBonU",
        "outputId": "5a99fbb1-ba1f-4b5e-f0c3-3f31e78d6638"
      },
      "outputs": [
        {
          "name": "stdout",
          "output_type": "stream",
          "text": [
            "Hola,*como*estas?\n",
            "********************\n",
            "<3\n"
          ]
        }
      ],
      "source": [
        "print(\"Hola,\", \"como\", \"estas?\", sep=\"*\", end = \"\\n********************\\n\")\n",
        "print(\"<3\")"
      ]
    },
    {
      "cell_type": "code",
      "execution_count": null,
      "metadata": {
        "colab": {
          "base_uri": "https://localhost:8080/"
        },
        "id": "SYK9V1kp5W_n",
        "outputId": "8d8476eb-56ea-4131-880d-05d4c52a2514"
      },
      "outputs": [
        {
          "name": "stdout",
          "output_type": "stream",
          "text": [
            "    *\n",
            "   * *\n",
            "  *   *\n",
            " *     *\n",
            "***   ***\n",
            "  *   *\n",
            "  *   *\n",
            "  *****\n",
            "    *\n",
            "   * *\n",
            "  *   *\n",
            " *     *\n",
            "***   ***\n",
            "  *   *\n",
            "  *   *\n",
            "  *****\n",
            "\n"
          ]
        }
      ],
      "source": [
        "print(\"    *\\n   * *\\n  *   *\\n *     *\\n***   ***\\n  *   *\\n  *   *\\n  *****\\n\"*2)"
      ]
    },
    {
      "cell_type": "code",
      "execution_count": null,
      "metadata": {
        "colab": {
          "base_uri": "https://localhost:8080/"
        },
        "id": "VRQybF8h6WAF",
        "outputId": "fabda971-88d9-4cdc-e3b1-0178ae79198d"
      },
      "outputs": [
        {
          "name": "stdout",
          "output_type": "stream",
          "text": [
            "\n",
            "        *\n",
            "       * *\n",
            "      *   *\n",
            "     *     *\n",
            "    *       *\n",
            "   *         *\n",
            "  *           *\n",
            " *             *\n",
            "******     ******\n",
            "     *     *\n",
            "     *     *\n",
            "     *     *\n",
            "     *     *\n",
            "     ******* \n",
            "\n"
          ]
        }
      ],
      "source": [
        "print(f\"\"\"\n",
        "        *\n",
        "       * *\n",
        "      *   *\n",
        "     *     *\n",
        "    *       *\n",
        "   *         *\n",
        "  *           *\n",
        " *             *\n",
        "******     ******\n",
        "     *     *\n",
        "     *     *\n",
        "     *     *\n",
        "     *     *\n",
        "     *******\n",
        "\"\"\")"
      ]
    },
    {
      "cell_type": "code",
      "execution_count": null,
      "metadata": {
        "colab": {
          "base_uri": "https://localhost:8080/"
        },
        "id": "lFD6vAQr818h",
        "outputId": "6ddc1efb-7aab-449e-e805-34419ed27781"
      },
      "outputs": [
        {
          "name": "stdout",
          "output_type": "stream",
          "text": [
            "111111111\n",
            "111111111\n",
            "-111111111\n",
            "-111111111\n",
            "111111111\n",
            "111111111\n"
          ]
        }
      ],
      "source": [
        "#Enteros\n",
        "print(111111111)\n",
        "print(111_111_111)\n",
        "print(-111111111)\n",
        "print(-111_111_111)\n",
        "print(+111111111)\n",
        "print(+111_111_111)"
      ]
    },
    {
      "cell_type": "code",
      "execution_count": null,
      "metadata": {
        "colab": {
          "base_uri": "https://localhost:8080/"
        },
        "id": "v_uL72Vlu9SQ",
        "outputId": "a1cc298e-ec34-4fa9-f680-927c375473a1"
      },
      "outputs": [
        {
          "name": "stdout",
          "output_type": "stream",
          "text": [
            "83\n",
            "291\n"
          ]
        }
      ],
      "source": [
        "#Enteros: Numeros octales y hexadecimales\n",
        "print(0o123)\n",
        "print(0x123)"
      ]
    },
    {
      "cell_type": "code",
      "execution_count": null,
      "metadata": {
        "colab": {
          "base_uri": "https://localhost:8080/"
        },
        "id": "dkQwUI0Xv__X",
        "outputId": "2169b648-98ec-484b-cd4b-2f42ab087e28"
      },
      "outputs": [
        {
          "name": "stdout",
          "output_type": "stream",
          "text": [
            "300000000.0\n",
            "300000000.0\n"
          ]
        }
      ],
      "source": [
        "print(300_000_000.0)\n",
        "print(3e8)"
      ]
    },
    {
      "cell_type": "code",
      "execution_count": null,
      "metadata": {
        "colab": {
          "base_uri": "https://localhost:8080/"
        },
        "id": "iqtb3IkB1VK_",
        "outputId": "deeac70c-ebb1-4d41-9120-82385a2992d6"
      },
      "outputs": [
        {
          "name": "stdout",
          "output_type": "stream",
          "text": [
            "1e-30\n"
          ]
        }
      ],
      "source": [
        "print(0.000000000000000000000000000001)"
      ]
    },
    {
      "cell_type": "code",
      "execution_count": null,
      "metadata": {
        "colab": {
          "base_uri": "https://localhost:8080/"
        },
        "id": "g9q0PZ0J5t1n",
        "outputId": "91fbd59f-be47-4954-cd5e-c910e1224b7b"
      },
      "outputs": [
        {
          "name": "stdout",
          "output_type": "stream",
          "text": [
            "Me gusta \"Monty Python\"\n",
            "Me gusta \"Monty Python \" \n"
          ]
        }
      ],
      "source": [
        "#Cadenas\n",
        "print('Me gusta \"Monty Python\"')\n",
        "print(\"Me gusta \\\"Monty Python \\\" \")"
      ]
    },
    {
      "cell_type": "code",
      "execution_count": null,
      "metadata": {
        "colab": {
          "base_uri": "https://localhost:8080/"
        },
        "id": "EaSvDN2tKr8N",
        "outputId": "5e74ffd1-b7f4-4cba-e2eb-3966fccf9bb1"
      },
      "outputs": [
        {
          "name": "stdout",
          "output_type": "stream",
          "text": [
            "8\n",
            "8.0\n"
          ]
        }
      ],
      "source": [
        "#Exponenciales\n",
        "print(2 ** 3)\n",
        "print(2. ** 3.)"
      ]
    },
    {
      "cell_type": "code",
      "execution_count": null,
      "metadata": {
        "colab": {
          "base_uri": "https://localhost:8080/"
        },
        "id": "rbawOcOeKyO6",
        "outputId": "a8e2d4b4-1d8c-4475-ad2d-e04346ffcd76"
      },
      "outputs": [
        {
          "name": "stdout",
          "output_type": "stream",
          "text": [
            "c =  5.0\n"
          ]
        }
      ],
      "source": [
        "#Variables\n",
        "a = 3.0\n",
        "b = 4.0\n",
        "c = (a ** 2 + b ** 2) ** 0.5\n",
        "print(\"c = \" , c)"
      ]
    },
    {
      "cell_type": "code",
      "execution_count": null,
      "metadata": {
        "colab": {
          "base_uri": "https://localhost:8080/"
        },
        "id": "hY86TNoEXw_q",
        "outputId": "1a5bc3dc-134d-493b-df7d-7f881d6348b7"
      },
      "outputs": [
        {
          "name": "stdout",
          "output_type": "stream",
          "text": [
            "Ingresa un valor: 2\n",
            "Ingrese un valor: 2\n",
            "La suma de los valores es:  4.0\n",
            "La resta de los valores es:  0.0\n",
            "La multiplicación de los valores es:  4.0\n",
            "La división de los valores es:  1.0\n",
            "\n",
            "¡Eso es todo, amigos!\n"
          ]
        }
      ],
      "source": [
        "#Conversiones y entradas\n",
        "uno = float(input(\"Ingresa un valor: \"))\n",
        "dos = float(input(\"Ingrese un valor: \"))\n",
        "\n",
        "print(\"La suma de los valores es: \", uno + dos)\n",
        "print(\"La resta de los valores es: \", uno - dos)\n",
        "print(\"La multiplicación de los valores es: \", uno * dos)\n",
        "print(\"La división de los valores es: \", uno / dos)\n",
        "\n",
        "print(\"\\n¡Eso es todo, amigos!\")"
      ]
    },
    {
      "cell_type": "code",
      "execution_count": null,
      "metadata": {
        "colab": {
          "base_uri": "https://localhost:8080/"
        },
        "id": "I7VB-lNtnY7t",
        "outputId": "576ce2c0-56c0-4455-ffc6-b77255827da9"
      },
      "outputs": [
        {
          "name": "stdout",
          "output_type": "stream",
          "text": [
            "Ingrese un valor para x: -5\n",
            "y =  -0.19258202567760344\n"
          ]
        }
      ],
      "source": [
        "#Ejercicio:\n",
        "x = float(input(\"Ingrese un valor para x: \"))\n",
        "y = 1/(x+(1/(x+(1/(x+(1/x))))))\n",
        "print(\"y = \", y)"
      ]
    },
    {
      "cell_type": "code",
      "execution_count": 3,
      "metadata": {
        "colab": {
          "base_uri": "https://localhost:8080/"
        },
        "id": "YQdSnvWcpQ9y",
        "outputId": "5e0aa29d-f300-4669-aecc-9c0ed123a295"
      },
      "outputs": [
        {
          "name": "stdout",
          "output_type": "stream",
          "text": [
            "La hora de salida es:  3 : 10\n"
          ]
        }
      ],
      "source": [
        "#Ejercicio:\n",
        "hour = int(input(\"Hora de inicio (horas): \"))\n",
        "mins = int(input(\"Minuto de inicio (minutos): \"))\n",
        "dura = int(input(\"Duración del evento (minutos): \"))\n",
        "\n",
        "hora_sal = (((mins+dura)//60)+ hour) % 24 if (((mins+dura)//60)+ hour)%24!=0 else (((mins+dura)//60)+ hour)\n",
        "min_sal = ((mins+dura)%60)\n",
        "\n",
        "print(\"La hora de salida es: \",hora_sal,\":\",min_sal)"
      ]
    },
    {
      "cell_type": "code",
      "execution_count": 4,
      "metadata": {},
      "outputs": [
        {
          "name": "stdout",
          "output_type": "stream",
          "text": [
            "El numero mas grande es: 2\n"
          ]
        }
      ],
      "source": [
        "#Ejemplo 1\n",
        "number1 = int(input(\"Ingresa el primer numero: \"))\n",
        "number2 = int(input(\"Ingresa el primer numero: \"))\n",
        "\n",
        "if number1 > number2:\n",
        "    large_number = number1\n",
        "else:\n",
        "    large_number = number2\n",
        "\n",
        "print(\"El numero mas grande es: \" + str(large_number))"
      ]
    },
    {
      "cell_type": "code",
      "execution_count": 5,
      "metadata": {},
      "outputs": [
        {
          "name": "stdout",
          "output_type": "stream",
          "text": [
            "El numero mas grande es: 6\n"
          ]
        }
      ],
      "source": [
        "#Ejemplo 2\n",
        "number1 = int(input(\"Ingresa el primer numero: \"))\n",
        "number2 = int(input(\"Ingresa el primer numero: \"))\n",
        "\n",
        "if number1 > number2: large_number = number1\n",
        "else: large_number = number2\n",
        "\n",
        "print(\"El numero mas grande es: \" + str(large_number))"
      ]
    },
    {
      "cell_type": "code",
      "execution_count": 8,
      "metadata": {},
      "outputs": [
        {
          "name": "stdout",
          "output_type": "stream",
          "text": [
            "El numero mas grande es: 3\n"
          ]
        }
      ],
      "source": [
        "#Ejemplo 3\n",
        "number1 = int(input(\"Ingresa el primer número: \"))\n",
        "number2 = int(input(\"Ingresa el segundo número: \"))\n",
        "number3 = int(input(\"Ingresa el tercer número: \"))\n",
        "\n",
        "large_number = number1\n",
        "\n",
        "if number2 > large_number:\n",
        "    large_number = number2\n",
        "if number3 > large_number:\n",
        "    large_number = number3\n",
        "\n",
        "print(\"El numero mas grande es: \" + str(large_number))"
      ]
    },
    {
      "cell_type": "code",
      "execution_count": 4,
      "metadata": {},
      "outputs": [
        {
          "name": "stdout",
          "output_type": "stream",
          "text": [
            "Si, ¡El ESPATIFILIO! es la mejor planta de todos los tiempos!\n"
          ]
        }
      ],
      "source": [
        "# Ejercicio\n",
        "planta = input(\"Ingresa la planta: \")\n",
        "\n",
        "if planta == \"ESPATIFILIO\":\n",
        "    print(\"Si, ¡El ESPATIFILIO! es la mejor planta de todos los tiempos!\")\n",
        "elif planta == \"espatifilo\":\n",
        "    print(\"No, ¡quiero un gran ESPATIFILIO!\")\n",
        "else:\n",
        "    print(f\"¡ESPATIFILIO!, ¡No {planta}!\")"
      ]
    },
    {
      "cell_type": "code",
      "execution_count": 11,
      "metadata": {},
      "outputs": [
        {
          "name": "stdout",
          "output_type": "stream",
          "text": [
            "No hay impuesto\n"
          ]
        }
      ],
      "source": [
        "# Ejercicio\n",
        "income = float(input(\"Introduce el ingreso anual: \"))\n",
        "\n",
        "if income <= 85_528:\n",
        "    impuesto = 0.18*income-556.02\n",
        "elif income > 85_528:\n",
        "    impuesto = 14_839.02 + 0.32*(income-85_528)\n",
        "\n",
        "print(\"Impuesto: \",round(impuesto,0)) if impuesto > 0 else print(\"No hay impuesto\")"
      ]
    },
    {
      "cell_type": "code",
      "execution_count": 22,
      "metadata": {},
      "outputs": [
        {
          "name": "stdout",
          "output_type": "stream",
          "text": [
            "No esta dentro del período del calendario Gregoriano\n"
          ]
        }
      ],
      "source": [
        "# Ejemplo\n",
        "year = int(input(\"Introduce el año: \"))\n",
        "\n",
        "if year >= 1582:\n",
        "    if year % 4 != 0:\n",
        "        print(\"Año Común\")\n",
        "    elif year % 100 != 0:\n",
        "     print(\"Año Bisiesto\")\n",
        "    elif year % 400 != 0:\n",
        "       print(\"Año Común\")\n",
        "    else:\n",
        "        print(\"Año Bisiesto\")\n",
        "else:\n",
        "    print(\"No esta dentro del período del calendario Gregoriano\")"
      ]
    },
    {
      "cell_type": "code",
      "execution_count": 2,
      "metadata": {},
      "outputs": [
        {
          "name": "stdout",
          "output_type": "stream",
          "text": [
            "El numero mas grande es:  45\n"
          ]
        }
      ],
      "source": [
        "# Ejemplo bucle while\n",
        "largest_number = -999999999\n",
        "\n",
        "number = int(input(\"Introduce un numero o escribe -1 para detener: \"))\n",
        "\n",
        "while number != -1:\n",
        "    if number > largest_number:\n",
        "        largest_number = number\n",
        "    number = int(input(\"Introduce un numero o escribe -1 para detener: \"))\n",
        "\n",
        "print(\"El numero mas grande es: \", largest_number)\n",
        "\n",
        "# Da el numero mas grande de los ingresados hasta finalizar el ingreso de datos"
      ]
    },
    {
      "cell_type": "code",
      "execution_count": 12,
      "metadata": {},
      "outputs": [
        {
          "name": "stdout",
          "output_type": "stream",
          "text": [
            "Cuenta de numeros pares: 2\n",
            "Cuenta de numeros impares: 1\n"
          ]
        }
      ],
      "source": [
        "# Ejemplo: Contar numero pares e impares ingresados\n",
        "odd_numbers = 0\n",
        "even_numbers = 0\n",
        "\n",
        "number = int(input(\"Introduce un numero o escribe 0 para detener: \"))\n",
        "\n",
        "while number != 0:\n",
        "    if number % 2 == 1:\n",
        "        odd_numbers += 1\n",
        "    else:\n",
        "        even_numbers +=1\n",
        "    number = int(input(\"Introduce un numero o escribe 0 para detener: \"))\n",
        "\n",
        "print(\"Cuenta de numeros pares: {}\".format(odd_numbers))\n",
        "print(\"Cuenta de numeros impares: {}\".format(even_numbers))"
      ]
    },
    {
      "cell_type": "code",
      "execution_count": 15,
      "metadata": {},
      "outputs": [
        {
          "name": "stdout",
          "output_type": "stream",
          "text": [
            "Dentro del bucle:  5\n",
            "Dentro del bucle:  4\n",
            "Dentro del bucle:  3\n",
            "Dentro del bucle:  2\n",
            "Dentro del bucle:  1\n",
            "Fuera del bucle:  0\n"
          ]
        }
      ],
      "source": [
        "# Variable counter\n",
        "counter = 5\n",
        "\n",
        "while counter != 0:\n",
        "    print(\"Dentro del bucle: \", counter)\n",
        "    counter -=1\n",
        "print(\"Fuera del bucle: \", counter) "
      ]
    },
    {
      "cell_type": "code",
      "execution_count": 16,
      "metadata": {},
      "outputs": [
        {
          "name": "stdout",
          "output_type": "stream",
          "text": [
            "\n",
            "+==================================+\n",
            "| ¡Bienvenido a mi juego, muggle!  |\n",
            "| Introduce un número entero       |\n",
            "| y adivina qué número he          |\n",
            "| elegido para ti.                 |\n",
            "| Entonces,                        |\n",
            "| ¿Cuál es el número secreto?      |\n",
            "+==================================+\n",
            "\n",
            "¡Ja, ja! ¡Estás atrapado en mi bucle!\n",
            "¡Ja, ja! ¡Estás atrapado en mi bucle!\n",
            "¡Ja, ja! ¡Estás atrapado en mi bucle!\n",
            "El numero secreto era:  777\n",
            "¡Bien hecho, muggle! Eres libre ahora\n"
          ]
        }
      ],
      "source": [
        "# Adivina el numero secreto\n",
        "secret_number = 777\n",
        "\n",
        "print(\n",
        "\"\"\"\n",
        "+==================================+\n",
        "| ¡Bienvenido a mi juego, muggle!  |\n",
        "| Introduce un número entero       |\n",
        "| y adivina qué número he          |\n",
        "| elegido para ti.                 |\n",
        "| Entonces,                        |\n",
        "| ¿Cuál es el número secreto?      |\n",
        "+==================================+\n",
        "\"\"\")\n",
        "number = int(input(\"Ingresa el numero que creas es la respuesta: \"))\n",
        "while number != secret_number:\n",
        "    print(\"¡Ja, ja! ¡Estás atrapado en mi bucle!\")\n",
        "    number = int(input(\"Ingresa el numero que creas es la respuesta: \"))\n",
        "\n",
        "print(\"El numero secreto era: \", secret_number)\n",
        "print(\"¡Bien hecho, muggle! Eres libre ahora\")"
      ]
    },
    {
      "cell_type": "code",
      "execution_count": 23,
      "metadata": {},
      "outputs": [
        {
          "name": "stdout",
          "output_type": "stream",
          "text": [
            "2 a la potencia de:  0  es  1\n",
            "2 a la potencia de:  1  es  2\n",
            "2 a la potencia de:  2  es  4\n",
            "2 a la potencia de:  3  es  8\n",
            "2 a la potencia de:  4  es  16\n",
            "2 a la potencia de:  5  es  32\n",
            "2 a la potencia de:  6  es  64\n",
            "2 a la potencia de:  7  es  128\n",
            "2 a la potencia de:  8  es  256\n",
            "2 a la potencia de:  9  es  512\n",
            "2 a la potencia de:  10  es  1024\n",
            "2 a la potencia de:  11  es  2048\n",
            "2 a la potencia de:  12  es  4096\n",
            "2 a la potencia de:  13  es  8192\n",
            "2 a la potencia de:  14  es  16384\n",
            "2 a la potencia de:  15  es  32768\n"
          ]
        }
      ],
      "source": [
        "#Ejemplo\n",
        "power = 1\n",
        "\n",
        "for expo in range(16):\n",
        "    print(\"2 a la potencia de: \",expo, \" es \", power)\n",
        "    power *= 2"
      ]
    },
    {
      "cell_type": "code",
      "execution_count": 24,
      "metadata": {},
      "outputs": [
        {
          "name": "stdout",
          "output_type": "stream",
          "text": [
            "1 Mississippi\n",
            "2 Mississippi\n",
            "3 Mississippi\n",
            "4 Mississippi\n",
            "5 Mississippi\n",
            "¡Listos o no, ahí voy!\n"
          ]
        }
      ],
      "source": [
        "#Ejemplo conteo ciclo for modulo sleep()\n",
        "import time\n",
        "\n",
        "for i in range(1,6):\n",
        "    print(i, \"Mississippi\")\n",
        "    time.sleep(1)\n",
        "\n",
        "print(\"¡Listos o no, ahí voy!\")"
      ]
    },
    {
      "cell_type": "code",
      "execution_count": 27,
      "metadata": {},
      "outputs": [
        {
          "name": "stdout",
          "output_type": "stream",
          "text": [
            "La instruccion break: \n",
            "\n",
            "Dentro del bucle  1\n",
            "Dentro del bucle  2\n",
            "\n",
            "Fuera del bucle\n"
          ]
        }
      ],
      "source": [
        "# Ejemplo de break\n",
        "print(\"La instruccion break: \\n\")\n",
        "for i in range(1,6):\n",
        "    if i == 3:\n",
        "        break\n",
        "    print(\"Dentro del bucle \", i)\n",
        "print(\"\\nFuera del bucle\")"
      ]
    },
    {
      "cell_type": "code",
      "execution_count": 28,
      "metadata": {},
      "outputs": [
        {
          "name": "stdout",
          "output_type": "stream",
          "text": [
            "La instruccion continue: \n",
            "\n",
            "Dentro del bucle:  1\n",
            "Dentro del bucle:  2\n",
            "Dentro del bucle:  4\n",
            "Dentro del bucle:  5\n",
            "\n",
            "Fuera del bucle.\n"
          ]
        }
      ],
      "source": [
        "#Ejemplo de continue\n",
        "print(\"La instruccion continue: \\n\")\n",
        " \n",
        "for i in range(1,6):\n",
        "    if i == 3:\n",
        "        continue\n",
        "    print(\"Dentro del bucle: \", i)\n",
        "print(\"\\nFuera del bucle.\")"
      ]
    },
    {
      "cell_type": "code",
      "execution_count": 32,
      "metadata": {},
      "outputs": [
        {
          "name": "stdout",
          "output_type": "stream",
          "text": [
            "No has ingresado ningun numero.\n"
          ]
        }
      ],
      "source": [
        "#Sentencia break\n",
        "largest_number = -9999999\n",
        "counter = 0\n",
        "\n",
        "while True:\n",
        "    number = int(input(\"Ingresa un numero o escribe -1 para finalizar el programa: \"))\n",
        "    if number == -1:\n",
        "        break\n",
        "    counter +=1\n",
        "    if number > largest_number:\n",
        "        largest_number = number\n",
        "\n",
        "if counter != 0:\n",
        "    print(\"El numero mas grande es: \", largest_number)\n",
        "else:\n",
        "    print(\"No has ingresado ningun numero.\")"
      ]
    },
    {
      "cell_type": "code",
      "execution_count": 42,
      "metadata": {},
      "outputs": [
        {
          "name": "stdout",
          "output_type": "stream",
          "text": [
            "No has ingresado ningun numero.\n"
          ]
        }
      ],
      "source": [
        "#Sentencia Continue\n",
        "largest_number = -99999\n",
        "counter = 0\n",
        "\n",
        "number = int(input(\"Ingresa un numero o escribe -1 para finalizar el programa: \"))\n",
        "\n",
        "while number != -1:\n",
        "    #if number == -1:\n",
        "     #   continue\n",
        "    counter += 1\n",
        "\n",
        "    if number > largest_number:\n",
        "        largest_number = number\n",
        "    \n",
        "    number = int(input(\"Ingresa un numero o escribe -1 para finalizar el programa: \"))\n",
        "\n",
        "if counter != 0:\n",
        "    print(\"El numero mas grande es: \", largest_number)\n",
        "else:\n",
        "    print(\"No has ingresado ningun numero.\")\n",
        "\n",
        "#Esta expresion resulta no es necesaria dentro de la funcion\n",
        "\n",
        "#if number == -1:\n",
        "     #   continue\n"
      ]
    },
    {
      "cell_type": "code",
      "execution_count": 43,
      "metadata": {},
      "outputs": [
        {
          "name": "stdout",
          "output_type": "stream",
          "text": [
            "¡Has dejado el bucle con éxito\n"
          ]
        }
      ],
      "source": [
        "#Ejercicio\n",
        "\n",
        "palabra = str(input(\"Ingresa una palabra: \"))\n",
        "\n",
        "while True:\n",
        "    if palabra == \"chupacabra\":\n",
        "        break\n",
        "    palabra = palabra = str(input(\"Ingresa una palabra: \"))\n",
        "\n",
        "print(\"¡Has dejado el bucle con éxito\")"
      ]
    },
    {
      "cell_type": "code",
      "execution_count": 56,
      "metadata": {},
      "outputs": [
        {
          "name": "stdout",
          "output_type": "stream",
          "text": [
            "Y\n",
            "S\n",
            "H\n",
            "N\n"
          ]
        }
      ],
      "source": [
        "# Comedor de vocales\n",
        "\n",
        "user_word = str(input(\"Ingresa una palabra: \")).upper()\n",
        "\n",
        "for letra in user_word:\n",
        "    if letra == \"A\":\n",
        "        continue\n",
        "    elif letra == \"E\":\n",
        "        continue\n",
        "    elif letra == \"I\":\n",
        "        continue\n",
        "    elif letra == \"O\":\n",
        "        continue\n",
        "    elif letra == \"U\":\n",
        "        continue\n",
        "    else:\n",
        "        print(letra)"
      ]
    },
    {
      "cell_type": "code",
      "execution_count": 60,
      "metadata": {},
      "outputs": [
        {
          "name": "stdout",
          "output_type": "stream",
          "text": [
            "BSTMS\n"
          ]
        }
      ],
      "source": [
        "# Comedor de vocales mejorado\n",
        "word_without_vowels = \"\"\n",
        "user_word = str(input(\"Ingrese una palabra: \")).upper()\n",
        "\n",
        "for letra in user_word:\n",
        "    if letra == \"A\":\n",
        "        continue\n",
        "    elif letra == \"E\":\n",
        "        continue\n",
        "    elif letra == \"I\":\n",
        "        continue\n",
        "    elif letra == \"O\":\n",
        "        continue\n",
        "    elif letra == \"U\":\n",
        "        continue\n",
        "    else:\n",
        "        word_without_vowels += letra\n",
        "\n",
        "print(word_without_vowels)\n"
      ]
    },
    {
      "cell_type": "code",
      "execution_count": 25,
      "metadata": {},
      "outputs": [
        {
          "name": "stdout",
          "output_type": "stream",
          "text": [
            "Niveles permitidos:  44  - Ladrillos ocupados:  990\n"
          ]
        }
      ],
      "source": [
        "#Ejercicio piramide\n",
        "'''\n",
        "Escucha esta historia: Un niño y su padre, un programador de computadoras, juegan con bloques de madera. \n",
        "Están construyendo una pirámide.\n",
        "\n",
        "Su pirámide es un poco rara, ya que en realidad es una pared en forma de pirámide, es plana. \n",
        "La pirámide se apila de acuerdo con un principio simple: cada capa inferior contiene un bloque más que la capa superior.\n",
        "\n",
        "Tu tarea es escribir un programa que lea la cantidad de bloques que tienen los constructores, y generar la altura de la \n",
        "pirámide que se puede construir utilizando estos bloques.\n",
        "\n",
        "Nota: La altura se mide por el número de capas completas: si los constructores no tienen la cantidad suficiente de bloques\n",
        " y no pueden completar la siguiente capa, terminan su trabajo inmediatamente\n",
        "'''\n",
        "\n",
        "Ladrillos = int(input(\"Escribe el numero de ladrillos de la construccion: \"))\n",
        "\n",
        "Ladrillos_piso = 0\n",
        "Niveles = 0\n",
        "Acumulados = 0\n",
        "\n",
        "while Ladrillos_piso <= Ladrillos:\n",
        "    Niveles = Niveles + 1\n",
        "    Acumulados = Acumulados + Niveles\n",
        "    if Acumulados <= Ladrillos:\n",
        "        Ladrillos_piso = Ladrillos - Acumulados\n",
        "    else:\n",
        "        Niveles = Niveles - 1\n",
        "        break\n",
        "    Usados = Ladrillos - Ladrillos_piso\n",
        "        \n",
        "print(\"Niveles permitidos: \", Niveles, \" - Ladrillos ocupados: \", Usados)  "
      ]
    },
    {
      "cell_type": "code",
      "execution_count": 30,
      "metadata": {},
      "outputs": [
        {
          "name": "stdout",
          "output_type": "stream",
          "text": [
            "Numeros intermedios:  46\n",
            "Numeros intermedios:  23.0\n",
            "Numeros intermedios:  70.0\n",
            "Numeros intermedios:  35.0\n",
            "Numeros intermedios:  106.0\n",
            "Numeros intermedios:  53.0\n",
            "Numeros intermedios:  160.0\n",
            "Numeros intermedios:  80.0\n",
            "Numeros intermedios:  40.0\n",
            "Numeros intermedios:  20.0\n",
            "Numeros intermedios:  10.0\n",
            "Numeros intermedios:  5.0\n",
            "Numeros intermedios:  16.0\n",
            "Numeros intermedios:  8.0\n",
            "Numeros intermedios:  4.0\n",
            "Numeros intermedios:  2.0\n",
            "Numeros intermedios:  1.0\n",
            "La cantidad de pasos utilizados para evaluar la hipotesis son:  17\n"
          ]
        }
      ],
      "source": [
        "# En 1937, un matemático alemán llamado Lothar Collatz formuló una hipótesis intrigante\n",
        "# (aún no se ha comprobado) que se puede describir de la siguiente manera:\n",
        "\n",
        "# Toma cualquier número entero que no sea negativo y que no sea cero y asígnale el nombre c0.\n",
        "# Si es par, evalúa un nuevo c0 como c0 ÷ 2.\n",
        "# De lo contrario, si es impar, evalúe un nuevo  c0  como 3 × c0 + 1.\n",
        "# Si c0 ≠ 1, salta al punto 2.\n",
        "# La hipótesis dice que, independientemente del valor inicial de c0, el valor siempre tiende a 1.\n",
        "\n",
        "entero = int(input(\"Ingresa un numero: \"))\n",
        "pasos = 0\n",
        "\n",
        "while entero > 0 and entero != 1:\n",
        "    if entero % 2 == 0:\n",
        "        entero = entero / 2\n",
        "    else:\n",
        "        entero = 3 * entero + 1\n",
        "    pasos = pasos + 1\n",
        "    print(\"Numeros intermedios: \", entero)\n",
        "\n",
        "print(\"La cantidad de pasos utilizados para evaluar la hipotesis son: \", pasos)\n"
      ]
    },
    {
      "cell_type": "code",
      "execution_count": 32,
      "metadata": {},
      "outputs": [
        {
          "name": "stdout",
          "output_type": "stream",
          "text": [
            "1\n",
            "3\n",
            "5\n",
            "7\n",
            "9\n"
          ]
        }
      ],
      "source": [
        "# Ejercicios simples\n",
        "for i in range(0,11):\n",
        "    if i % 2 !=0:\n",
        "        print(i)"
      ]
    },
    {
      "cell_type": "code",
      "execution_count": 33,
      "metadata": {},
      "outputs": [
        {
          "name": "stdout",
          "output_type": "stream",
          "text": [
            "1\n",
            "3\n",
            "5\n",
            "7\n",
            "9\n"
          ]
        }
      ],
      "source": [
        "x = 1\n",
        "while x < 11:\n",
        "    if x % 2 != 0:\n",
        "        print(x)\n",
        "    x +=1 "
      ]
    },
    {
      "cell_type": "code",
      "execution_count": 37,
      "metadata": {},
      "outputs": [
        {
          "name": "stdout",
          "output_type": "stream",
          "text": [
            "john.smith"
          ]
        }
      ],
      "source": [
        "for ch in \"john.smith@pythoninstitute.org\":\n",
        "    if ch == \"@\":\n",
        "        break\n",
        "    print(ch, end = \"\")"
      ]
    },
    {
      "cell_type": "code",
      "execution_count": 1,
      "metadata": {},
      "outputs": [
        {
          "name": "stdout",
          "output_type": "stream",
          "text": [
            "x165x318x651x"
          ]
        }
      ],
      "source": [
        "for digit in \"0165031806510\":\n",
        "    if digit == \"0\":\n",
        "      print(\"x\", end = \"\")\n",
        "      continue\n",
        "    print(digit, end=\"\")"
      ]
    },
    {
      "cell_type": "code",
      "execution_count": 6,
      "metadata": {},
      "outputs": [
        {
          "name": "stdout",
          "output_type": "stream",
          "text": [
            "True\n",
            "True\n",
            "True\n",
            "True\n"
          ]
        }
      ],
      "source": [
        "var = 1\n",
        "print(var > 0)\n",
        "print(not (var == 0))\n",
        "\n",
        "print(var != 0)\n",
        "print(not (var == 0))"
      ]
    },
    {
      "cell_type": "code",
      "execution_count": 10,
      "metadata": {},
      "outputs": [
        {
          "data": {
            "text/plain": [
              "True"
            ]
          },
          "execution_count": 10,
          "metadata": {},
          "output_type": "execute_result"
        }
      ],
      "source": [
        "i = 1\n",
        "j = not not i\n",
        "j"
      ]
    },
    {
      "cell_type": "code",
      "execution_count": 20,
      "metadata": {},
      "outputs": [
        {
          "name": "stdout",
          "output_type": "stream",
          "text": [
            "El contenido de la listas es:  [10, 5, 7, 2, 1]\n",
            "El contenido de la listas es:  [111, 5, 7, 2, 1]\n"
          ]
        }
      ],
      "source": [
        "# Cambio valor de una lista\n",
        "numeros = [10,5,7,2,1]\n",
        "print(\"El contenido de la listas es: \", numeros)\n",
        "\n",
        "#Sobreescribir numero en la posicion 0\n",
        "numeros[0] = 111\n",
        "print(\"El contenido de la listas es: \", numeros)"
      ]
    },
    {
      "cell_type": "code",
      "execution_count": 21,
      "metadata": {},
      "outputs": [
        {
          "name": "stdout",
          "output_type": "stream",
          "text": [
            "Nuevo contenido de lista: [10, 1, 7, 2, 1]\n"
          ]
        }
      ],
      "source": [
        "# Copiar quinto elemento al segundo elemento\n",
        "numeros = [10,5,7,2,1]\n",
        "numeros[1] = numeros[4]\n",
        "print(f'''Nuevo contenido de lista: {numeros}''')"
      ]
    },
    {
      "cell_type": "code",
      "execution_count": 22,
      "metadata": {},
      "outputs": [
        {
          "name": "stdout",
          "output_type": "stream",
          "text": [
            "Longitus de la cadena:  5\n"
          ]
        }
      ],
      "source": [
        "#Longitud de la lista\n",
        "print(\"Longitus de la cadena: \", len(numeros))"
      ]
    },
    {
      "cell_type": "code",
      "execution_count": 26,
      "metadata": {},
      "outputs": [
        {
          "name": "stdout",
          "output_type": "stream",
          "text": [
            "Lista original  [10, 7, 2, 1]\n",
            "Longitud nueva lista 3\n",
            "Nueva lista [10, 2, 1]\n"
          ]
        }
      ],
      "source": [
        "#Eliminar instrumentos de lista con la instruccion del\n",
        "print(\"Lista original \" , numeros)\n",
        "del numeros[1]\n",
        "print(\"Longitud nueva lista\" , len(numeros))\n",
        "print(\"Nueva lista\" , numeros)"
      ]
    },
    {
      "cell_type": "code",
      "execution_count": 31,
      "metadata": {},
      "outputs": [
        {
          "name": "stdout",
          "output_type": "stream",
          "text": [
            "1\n",
            "111\n"
          ]
        }
      ],
      "source": [
        "#Indices negativos en listas\n",
        "numeros = [111,7,2,1]\n",
        "print(numeros[-1])\n",
        "print(numeros[-4])"
      ]
    },
    {
      "cell_type": "code",
      "execution_count": 35,
      "metadata": {},
      "outputs": [
        {
          "name": "stdout",
          "output_type": "stream",
          "text": [
            "La lista es: [1, 2, 100, 4]\n",
            "La longitud de la lista es: 4\n"
          ]
        }
      ],
      "source": [
        "#Ejercicio\n",
        "hat_list = [1, 2, 3, 4, 5]\n",
        "numero = int(input(\"Ingresa un numero: \"))\n",
        "hat_list[2] = numero\n",
        "del hat_list[-1]\n",
        "print(\"La lista es: {}\".format(hat_list))\n",
        "print(\"La longitud de la lista es: {}\".format(len(hat_list)))"
      ]
    },
    {
      "cell_type": "code",
      "execution_count": 38,
      "metadata": {},
      "outputs": [
        {
          "name": "stdout",
          "output_type": "stream",
          "text": [
            "[111, 7, 2, 1]\n",
            "[111, 7, 2, 1, 4]\n",
            "[999, 111, 7, 2, 1, 4]\n",
            "[999, 333, 111, 7, 2, 1, 4]\n"
          ]
        }
      ],
      "source": [
        "#Agregar elementos por el metodo append al final de la lista\n",
        "numeros = [111,7,2,1]\n",
        "print(numeros)\n",
        "\n",
        "numeros.append(4)\n",
        "print(numeros)\n",
        "#Agregar elementos en cualquier posicion\n",
        "numeros.insert(0, 999)\n",
        "print(numeros)\n",
        "\n",
        "numeros.insert(1, 333)\n",
        "print(numeros)"
      ]
    },
    {
      "cell_type": "code",
      "execution_count": 39,
      "metadata": {},
      "outputs": [
        {
          "name": "stdout",
          "output_type": "stream",
          "text": [
            "[1, 2, 3, 4, 5]\n"
          ]
        }
      ],
      "source": [
        "# Uso de listas vacias\n",
        "lista = []\n",
        "\n",
        "for i in range(5):\n",
        "    lista.append(i+1)\n",
        "print(lista)"
      ]
    },
    {
      "cell_type": "code",
      "execution_count": 40,
      "metadata": {},
      "outputs": [
        {
          "name": "stdout",
          "output_type": "stream",
          "text": [
            "[5, 4, 3, 2, 1]\n"
          ]
        }
      ],
      "source": [
        "lista = []\n",
        "\n",
        "for i in range(5):\n",
        "    lista.insert(0,i+1)\n",
        "print(lista)"
      ]
    },
    {
      "cell_type": "code",
      "execution_count": 42,
      "metadata": {},
      "outputs": [
        {
          "name": "stdout",
          "output_type": "stream",
          "text": [
            "27\n"
          ]
        }
      ],
      "source": [
        "#Ejemplo de for en listas\n",
        "my_list = [10, 1, 8, 3, 5]\n",
        "total = 0\n",
        "\n",
        "for i in range(len(my_list)):\n",
        "    total += my_list[i]\n",
        "\n",
        "print(total)"
      ]
    },
    {
      "cell_type": "code",
      "execution_count": 43,
      "metadata": {},
      "outputs": [
        {
          "name": "stdout",
          "output_type": "stream",
          "text": [
            "27\n"
          ]
        }
      ],
      "source": [
        "my_list = [10, 1, 8, 3, 5]\n",
        "total = 0\n",
        "\n",
        "for i in my_list:\n",
        "    total += i\n",
        "\n",
        "print(total)"
      ]
    },
    {
      "cell_type": "code",
      "execution_count": 44,
      "metadata": {},
      "outputs": [
        {
          "name": "stdout",
          "output_type": "stream",
          "text": [
            "10 20\n",
            "20 10\n"
          ]
        }
      ],
      "source": [
        "# Intercamn¿biar valores\n",
        "a = 10\n",
        "b = 20 \n",
        "print(a,b)\n",
        "a,b = b,a\n",
        "print(a,b)"
      ]
    },
    {
      "cell_type": "code",
      "execution_count": 45,
      "metadata": {},
      "outputs": [
        {
          "name": "stdout",
          "output_type": "stream",
          "text": [
            "[5, 3, 8, 1, 10]\n",
            "[10, 1, 8, 3, 5]\n"
          ]
        }
      ],
      "source": [
        "# Ejemplo a travez de bucle for\n",
        "lista = [5,3,8,1,10]\n",
        "print(lista)\n",
        "for i in range(len(lista) // 2):\n",
        "    lista[i], lista[-i-1] = lista[-i-1] , lista[i]\n",
        "\n",
        "print(lista)"
      ]
    },
    {
      "cell_type": "code",
      "execution_count": 51,
      "metadata": {},
      "outputs": [
        {
          "name": "stdout",
          "output_type": "stream",
          "text": [
            "['John Lennon', 'Paul McCartney', 'George Harrison', 'Stu Sutcliffe', 'Pete Best']\n",
            "['John Lennon', 'Paul McCartney', 'George Harrison']\n",
            "['Ringo Starr', 'John Lennon', 'Paul McCartney', 'George Harrison'] Longitud:  4\n"
          ]
        }
      ],
      "source": [
        "#Ejercicio\n",
        "beatles = []\n",
        "\n",
        "for i in [\"John Lennon\",\"Paul McCartney\",\"George Harrison\",\"Stu Sutcliffe\",\"Pete Best\"]:\n",
        "    beatles.append(i)\n",
        "print(beatles)\n",
        "\n",
        "for i in [-1,-1]:\n",
        "    del beatles[i]\n",
        "print(beatles)\n",
        "\n",
        "beatles.insert(0, \"Ringo Starr\")\n",
        "print(beatles, \"Longitud: \", len(beatles))\n"
      ]
    },
    {
      "cell_type": "code",
      "execution_count": 57,
      "metadata": {},
      "outputs": [
        {
          "name": "stdout",
          "output_type": "stream",
          "text": [
            "[1, 2, 3, 4, 4, 5, 6, 7, 8, 9, 12, 21, 41, 45, 52, 59, 63, 74, 78, 85, 87, 96]\n"
          ]
        }
      ],
      "source": [
        "# Ordenamiento burbuja\n",
        "\n",
        "lista = [7,4,1,2,5,8,9,6,3,78,45,12,96,85,74,41,52,63,59,4,87,21]\n",
        "\n",
        "ciclo = True\n",
        "\n",
        "while ciclo:\n",
        "    ciclo = False\n",
        "    for i in range(len(lista)- 1):\n",
        "        if lista[i] > lista[i+1]:\n",
        "            ciclo = True\n",
        "            lista[i] , lista[i+1] = lista[i+1], lista[i]\n",
        "\n",
        "print(lista)\n"
      ]
    },
    {
      "cell_type": "code",
      "execution_count": 61,
      "metadata": {},
      "outputs": [
        {
          "name": "stdout",
          "output_type": "stream",
          "text": [
            "[8, 2, 4, 6, 53]\n"
          ]
        }
      ],
      "source": [
        "#Ordenar listas con metodos propios de clasificacion eficientes\n",
        "longitud = int(input(\"Ingrese el numero de elementos a ordenar: \"))\n",
        "vacia = []\n",
        "for i in range(longitud):\n",
        "    vacia.append(int(input(\"Ingrese el elemento {} de la lista: \".format(i))))\n",
        "lista.sort()\n",
        "print(vacia)"
      ]
    },
    {
      "cell_type": "code",
      "execution_count": 63,
      "metadata": {},
      "outputs": [
        {
          "name": "stdout",
          "output_type": "stream",
          "text": [
            "[8, 2, 4, 6, 53]\n",
            "[53, 6, 4, 2, 8]\n"
          ]
        }
      ],
      "source": [
        "# Invertir el orden de una lista con metodo reverse\n",
        "print(vacia)\n",
        "vacia.reverse()\n",
        "print(vacia)"
      ]
    },
    {
      "cell_type": "code",
      "execution_count": 1,
      "metadata": {},
      "outputs": [
        {
          "name": "stdout",
          "output_type": "stream",
          "text": [
            "[1]\n"
          ]
        }
      ],
      "source": [
        "# Rebanadas\n",
        "lista1 = [1]\n",
        "lista2 = lista1[:]\n",
        "lista1[0] = 2\n",
        "print(lista2)"
      ]
    },
    {
      "cell_type": "code",
      "execution_count": 2,
      "metadata": {},
      "outputs": [
        {
          "name": "stdout",
          "output_type": "stream",
          "text": [
            "[8, 6]\n"
          ]
        }
      ],
      "source": [
        "# Rebanadas ejemplo\n",
        "lista3 = [10, 8, 6, 4, 2]\n",
        "nuevalista = lista3[1:3]\n",
        "print(nuevalista)"
      ]
    },
    {
      "cell_type": "code",
      "execution_count": 4,
      "metadata": {},
      "outputs": [
        {
          "name": "stdout",
          "output_type": "stream",
          "text": [
            "[8, 6, 4]\n"
          ]
        }
      ],
      "source": [
        "nueva_lista = [10, 8, 6, 4, 2]\n",
        "milista = nueva_lista[1:-1]\n",
        "print(milista)"
      ]
    },
    {
      "cell_type": "code",
      "execution_count": 7,
      "metadata": {},
      "outputs": [
        {
          "name": "stdout",
          "output_type": "stream",
          "text": [
            "[]\n"
          ]
        }
      ],
      "source": [
        "# STAR > END tupla vacia\n",
        "my_list = [10, 8, 6, 4, 2]\n",
        "my_list2 = my_list[-1:1]\n",
        "print(my_list2)"
      ]
    },
    {
      "cell_type": "code",
      "execution_count": 8,
      "metadata": {},
      "outputs": [
        {
          "name": "stdout",
          "output_type": "stream",
          "text": [
            "[10, 8, 6]\n"
          ]
        }
      ],
      "source": [
        "#Omitiendo start inicia en el indice 0\n",
        "my_list = [10, 8, 6, 4, 2]\n",
        "new_list = my_list[:3]\n",
        "print(new_list)"
      ]
    },
    {
      "cell_type": "code",
      "execution_count": 10,
      "metadata": {},
      "outputs": [
        {
          "name": "stdout",
          "output_type": "stream",
          "text": [
            "[4, 2] [4, 2]\n"
          ]
        }
      ],
      "source": [
        "# Omitiendo el argumento end -> len(my_list)\n",
        "my_list = [10, 8, 6, 4, 2]\n",
        "new_list = my_list[3:]\n",
        "new_list2 = my_list[3:len(my_list)]\n",
        "\n",
        "print(new_list,new_list2)"
      ]
    },
    {
      "cell_type": "code",
      "execution_count": 11,
      "metadata": {},
      "outputs": [
        {
          "name": "stdout",
          "output_type": "stream",
          "text": [
            "[10, 4, 2]\n"
          ]
        }
      ],
      "source": [
        "#Uso << del >> para multiples eliminaciones en lista\n",
        "my_list = [10, 8, 6, 4, 2]\n",
        "del my_list[1:3]\n",
        "print(my_list)"
      ]
    },
    {
      "cell_type": "code",
      "execution_count": 12,
      "metadata": {},
      "outputs": [
        {
          "name": "stdout",
          "output_type": "stream",
          "text": [
            "[]\n"
          ]
        }
      ],
      "source": [
        "# Eliminacion con << del >> de todos los elementos\n",
        "my_list = [10, 8, 6, 4, 2]\n",
        "del my_list[:]\n",
        "print(my_list)"
      ]
    },
    {
      "cell_type": "code",
      "execution_count": 14,
      "metadata": {},
      "outputs": [
        {
          "name": "stdout",
          "output_type": "stream",
          "text": [
            " NameError: name 'my_list' is not defined \n"
          ]
        }
      ],
      "source": [
        "# Elimar la rebanada del codigo, eliminara la lista y no el contenido\n",
        "#Producira errores\n",
        "\n",
        "# my_list = [10, 8, 6, 4, 2]\n",
        "# del my_list\n",
        "# print(my_list)\n",
        "\n",
        "print(''' NameError: name 'my_list' is not defined ''')"
      ]
    },
    {
      "cell_type": "code",
      "execution_count": 16,
      "metadata": {},
      "outputs": [
        {
          "name": "stdout",
          "output_type": "stream",
          "text": [
            "False\n",
            "True\n"
          ]
        }
      ],
      "source": [
        "# operadores in y not in\n",
        "my_list = [0, 3, 12, 8, 2]\n",
        "print(5 in my_list)\n",
        "print(99 not in my_list)"
      ]
    },
    {
      "cell_type": "code",
      "execution_count": 4,
      "metadata": {},
      "outputs": [
        {
          "name": "stdout",
          "output_type": "stream",
          "text": [
            "22\n"
          ]
        }
      ],
      "source": [
        "# Ejemplo\n",
        "my_list = [17, 3, 11, 5, 1, 9, 7, 22, 13]\n",
        "mayor = my_list[0]\n",
        "\n",
        "for i in range(1, len(my_list)): #mylist[1:]\n",
        "    if my_list[i] > mayor:\n",
        "        mayor = my_list[i]\n",
        "\n",
        "print(mayor)"
      ]
    },
    {
      "cell_type": "code",
      "execution_count": 11,
      "metadata": {},
      "outputs": [
        {
          "name": "stdout",
          "output_type": "stream",
          "text": [
            "El elemento fue encontrado en el indice 4\n"
          ]
        }
      ],
      "source": [
        "#ENCONTRAR UN NUMERO DENTRO DE UNA LISTA\n",
        "my_list = [1, 2, 3, 4, 5, 6, 7, 8, 9, 10]\n",
        "to_find = 5\n",
        "found = False\n",
        "\n",
        "for i in range(len(my_list)):\n",
        "    found = my_list[i] == to_find\n",
        "    if found:\n",
        "        break\n",
        "\n",
        "if found:\n",
        "    print(\"El elemento fue encontrado en el indice {}\".format(i))\n",
        "else:\n",
        "    print(\"Ausente\")"
      ]
    },
    {
      "cell_type": "code",
      "execution_count": 13,
      "metadata": {},
      "outputs": [
        {
          "name": "stdout",
          "output_type": "stream",
          "text": [
            "Acertaste a 4 numeros.\n"
          ]
        }
      ],
      "source": [
        "# Contar numeros que se encuentran dentro de una lista\n",
        "\n",
        "elegidos = [5, 11, 9, 42, 3, 49]\n",
        "escogidos = [3, 7, 11, 42, 34, 49]\n",
        "aciertos = 0\n",
        "\n",
        "for numero in escogidos:\n",
        "    if numero in elegidos:\n",
        "        aciertos += 1\n",
        "\n",
        "print(\"Acertaste a\", aciertos, \"numeros.\")"
      ]
    },
    {
      "cell_type": "code",
      "execution_count": 17,
      "metadata": {},
      "outputs": [
        {
          "name": "stdout",
          "output_type": "stream",
          "text": [
            "La lista con elementos únicos:\n",
            "[1, 2, 4, 6, 9, 7, 8, 5, 3]\n"
          ]
        }
      ],
      "source": [
        "# Eliminar dupliacos de lista\n",
        "my_list = [1, 2, 4, 4, 1, 4, 2, 6, 2, 9,1,4,7,8,9,5,6,2,1,4,5,7,3,5,6]\n",
        "limpia = []\n",
        "\n",
        "for i in my_list:\n",
        "    if i not in limpia:\n",
        "        limpia.append(i)\n",
        "print(\"La lista con elementos únicos:\")\n",
        "print(limpia)\n"
      ]
    },
    {
      "cell_type": "code",
      "execution_count": 24,
      "metadata": {},
      "outputs": [
        {
          "name": "stdout",
          "output_type": "stream",
          "text": [
            "[0, 1, 4, 9, 16, 25, 36, 49, 64, 81]\n"
          ]
        }
      ],
      "source": [
        "squares = [x**2 for x in range(10) ]\n",
        "print(squares)"
      ]
    },
    {
      "cell_type": "code",
      "execution_count": 33,
      "metadata": {},
      "outputs": [
        {
          "name": "stdout",
          "output_type": "stream",
          "text": [
            "[[0, 1, 2], [0, 1, 2], [0, 1, 2]]\n"
          ]
        }
      ],
      "source": [
        "#Arreglos bidimencionales\n",
        "board = []\n",
        "\n",
        "for i in range(3):\n",
        "    row = [i for i in range(3)]\n",
        "    board.append(row)\n",
        "\n",
        "print(board)\n"
      ]
    },
    {
      "cell_type": "code",
      "execution_count": 34,
      "metadata": {},
      "outputs": [
        {
          "name": "stdout",
          "output_type": "stream",
          "text": [
            "[[0, 1, 2], [0, 1, 2], [0, 1, 2]]\n"
          ]
        }
      ],
      "source": [
        "# Alternativa\n",
        "\n",
        "board = [[i for i in range(3)] for j in range(3)]\n",
        "print(board)"
      ]
    },
    {
      "cell_type": "code",
      "execution_count": null,
      "metadata": {},
      "outputs": [],
      "source": [
        "pip install pandas"
      ]
    },
    {
      "cell_type": "code",
      "execution_count": 48,
      "metadata": {},
      "outputs": [
        {
          "name": "stdout",
          "output_type": "stream",
          "text": [
            "[['torre', '-', '-', '-', '-', '-', '-', 'torre'], ['-', '-', '-', '-', '-', '-', '-', '-'], ['-', '-', '-', '-', '-', '-', '-', '-'], ['-', '-', '-', '-', '-', '-', '-', '-'], ['-', '-', '-', '-', '-', '-', '-', '-'], ['-', '-', '-', '-', '-', '-', '-', '-'], ['-', '-', '-', '-', '-', '-', '-', '-'], ['torre', '-', '-', '-', '-', '-', '-', 'torre']]\n",
            "       0  1  2  3  4  5  6      7\n",
            "0  torre  -  -  -  -  -  -  torre\n",
            "1      -  -  -  -  -  -  -      -\n",
            "2      -  -  -  -  -  -  -      -\n",
            "3      -  -  -  -  -  -  -      -\n",
            "4      -  -  -  -  -  -  -      -\n",
            "5      -  -  -  -  -  -  -      -\n",
            "6      -  -  -  -  -  -  -      -\n",
            "7  torre  -  -  -  -  -  -  torre\n"
          ]
        }
      ],
      "source": [
        "# Ejemplo de colocacion de piezas ajedres\n",
        "empty = \"-\"\n",
        "pawn = \"peon\"\n",
        "rook = \"torre\"\n",
        "knight = \"caballo\"\n",
        "board = []\n",
        "\n",
        "for i in range(8):\n",
        "    row = [empty for i in range(8)]\n",
        "    board.append(row)\n",
        "\n",
        "board[0][0] = rook\n",
        "board[0][7] = rook\n",
        "board[7][0] = rook\n",
        "board[7][7] = rook\n",
        "\n",
        "print(board)\n",
        "#Colocar piezas por indices\n",
        "\n",
        "import pandas as pd\n",
        "print(pd.DataFrame(board))\n",
        "\n"
      ]
    },
    {
      "cell_type": "code",
      "execution_count": 51,
      "metadata": {},
      "outputs": [
        {
          "name": "stdout",
          "output_type": "stream",
          "text": [
            "[[[False, False, False, False, False, False, False, False, False, False, False, False, False, False, False, False, False, False, False, False], [False, False, False, False, False, False, False, False, False, False, False, False, False, False, False, False, False, False, False, False], [False, False, False, False, False, False, False, False, False, False, False, False, False, False, False, False, False, False, False, False], [False, False, False, False, False, False, False, False, False, False, False, False, False, False, False, False, False, False, False, False], [False, False, False, False, False, False, False, False, False, False, False, False, False, False, False, False, False, False, False, False], [False, False, False, False, False, False, False, False, False, False, False, False, False, False, False, False, False, False, False, False], [False, False, False, False, False, False, False, False, False, False, False, False, False, False, False, False, False, False, False, False], [False, False, False, False, False, False, False, False, False, False, False, False, False, False, False, False, False, False, False, False], [False, False, False, False, False, False, False, False, False, False, False, False, False, False, False, False, False, False, False, False], [False, False, False, False, False, False, False, False, False, False, False, False, False, False, False, False, False, False, False, False], [False, False, False, False, False, False, False, False, False, False, False, False, False, False, False, False, False, False, False, False], [False, False, False, False, False, False, False, False, False, False, False, False, False, False, False, False, False, False, False, False], [False, False, False, False, False, False, False, False, False, False, False, False, False, False, False, False, False, False, False, False], [False, False, False, False, False, False, False, False, False, False, False, False, False, False, False, False, False, False, False, False], [False, False, False, False, False, False, False, False, False, False, False, False, False, False, False, False, False, False, False, False]], [[False, False, False, False, False, False, False, False, False, False, False, False, False, False, False, False, False, False, False, False], [False, False, False, False, False, False, False, False, False, False, False, False, False, False, False, False, False, False, False, False], [False, False, False, False, False, False, False, False, False, False, False, False, False, False, False, False, False, False, False, False], [False, False, False, False, False, False, False, False, False, False, False, False, False, False, False, False, False, False, False, False], [False, False, False, False, False, False, False, False, False, False, False, False, False, False, False, False, False, False, False, False], [False, False, False, False, False, False, False, False, False, False, False, False, False, False, False, False, False, False, False, False], [False, False, False, False, False, False, False, False, False, False, False, False, False, False, False, False, False, False, False, False], [False, False, False, False, False, False, False, False, False, False, False, False, False, False, False, False, False, False, False, False], [False, False, False, False, False, False, False, False, False, False, False, False, False, False, False, False, False, False, False, False], [False, False, False, False, False, False, False, False, False, False, False, False, False, False, False, False, False, False, False, False], [False, False, False, False, False, False, False, False, False, False, False, False, False, False, False, False, False, False, False, False], [False, False, False, False, False, False, False, False, False, False, False, False, False, False, False, False, False, False, False, False], [False, False, False, False, False, False, False, False, False, False, False, False, False, False, False, False, False, False, False, False], [False, False, False, False, False, False, False, False, False, False, False, False, False, False, False, False, False, False, False, False], [False, False, False, False, False, False, False, False, False, False, False, False, False, False, False, False, False, False, False, False]], [[False, False, False, False, False, False, False, False, False, False, False, False, False, False, False, False, False, False, False, False], [False, False, False, False, False, False, False, False, False, False, False, False, False, False, False, False, False, False, False, False], [False, False, False, False, False, False, False, False, False, False, False, False, False, False, False, False, False, False, False, False], [False, False, False, False, False, False, False, False, False, False, False, False, False, False, False, False, False, False, False, False], [False, False, False, False, False, False, False, False, False, False, False, False, False, False, False, False, False, False, False, False], [False, False, False, False, False, False, False, False, False, False, False, False, False, False, False, False, False, False, False, False], [False, False, False, False, False, False, False, False, False, False, False, False, False, False, False, False, False, False, False, False], [False, False, False, False, False, False, False, False, False, False, False, False, False, False, False, False, False, False, False, False], [False, False, False, False, False, False, False, False, False, False, False, False, False, False, False, False, False, False, False, False], [False, False, False, False, False, False, False, False, False, False, False, False, False, False, False, False, False, False, False, False], [False, False, False, False, False, False, False, False, False, False, False, False, False, False, False, False, False, False, False, False], [False, False, False, False, False, False, False, False, False, False, False, False, False, False, False, False, False, False, False, False], [False, False, False, False, False, False, False, False, False, False, False, False, False, False, False, False, False, False, False, False], [False, False, False, False, False, False, False, False, False, False, False, False, False, False, False, False, False, False, False, False], [False, False, False, False, False, False, False, False, False, False, False, False, False, False, False, False, False, False, False, False]]]\n"
          ]
        }
      ],
      "source": [
        "#Arreglotridimencional\n",
        "#3 edificios de 15 pisos y cada piso con 20 habitaciones\n",
        "\n",
        "rooms = [ [  [False for habit in range(20)] for piso in range(15) ] for edif in range(3)]\n",
        "print(rooms)"
      ]
    },
    {
      "cell_type": "code",
      "execution_count": 52,
      "metadata": {},
      "outputs": [
        {
          "name": "stdout",
          "output_type": "stream",
          "text": [
            "20\n"
          ]
        }
      ],
      "source": [
        "#Reservacion segundo edificio , decimo piso, habitacion 14\n",
        "rooms[1][9][13] = True\n",
        "#Desocupar el segundo cuarto en el quinto piso ubicado en el primer edificio\n",
        "rooms[0][4][1] = False\n",
        "#Verificar si hay disponibilidad en el piso 15 de tercer edificio\n",
        "disponibilidad = 0\n",
        "for room_number in range(20):\n",
        "    if not rooms[2][14][room_number]:\n",
        "        disponibilidad += 1\n",
        "print(disponibilidad)\n"
      ]
    },
    {
      "cell_type": "code",
      "execution_count": 65,
      "metadata": {},
      "outputs": [
        {
          "name": "stdout",
          "output_type": "stream",
          "text": [
            "Hola, mi nombre es: Crjc Yio\n"
          ]
        }
      ],
      "source": [
        "#Nombre en Hungria\n",
        "def introduccion(nombre,apellido):\n",
        "    print(\"Hola, mi nombre es:\",apellido,nombre)\n",
        "\n",
        "introduccion(nombre = \"Yio\", apellido = \"Crjc\")"
      ]
    },
    {
      "cell_type": "code",
      "execution_count": 71,
      "metadata": {},
      "outputs": [
        {
          "name": "stdout",
          "output_type": "stream",
          "text": [
            "El numero es:  999\n"
          ]
        }
      ],
      "source": [
        "#Retorno con una expresion\n",
        "def numero():\n",
        "    return 999\n",
        "\n",
        "x = numero()\n",
        "print(\"El numero es: \", x)"
      ]
    },
    {
      "cell_type": "code",
      "execution_count": 3,
      "metadata": {},
      "outputs": [
        {
          "name": "stdout",
          "output_type": "stream",
          "text": [
            "None\n",
            "True\n"
          ]
        }
      ],
      "source": [
        "#Expresion none\n",
        "def funcionextraña(n):\n",
        "    if (n % 2 == 0):\n",
        "        return True\n",
        "\n",
        "print(funcionextraña(7))\n",
        "print(funcionextraña(8))"
      ]
    },
    {
      "cell_type": "code",
      "execution_count": 5,
      "metadata": {},
      "outputs": [
        {
          "name": "stdout",
          "output_type": "stream",
          "text": [
            "6\n"
          ]
        }
      ],
      "source": [
        "#Funciones con lista de argumento\n",
        "def lista_suma(lista):\n",
        "    s = 0\n",
        "    for element in lista:\n",
        "        s += element\n",
        "    return s\n",
        "\n",
        "print(lista_suma([1,2,3]))"
      ]
    },
    {
      "cell_type": "code",
      "execution_count": 7,
      "metadata": {},
      "outputs": [
        {
          "name": "stdout",
          "output_type": "stream",
          "text": [
            "[4, 3, 2, 1, 0]\n"
          ]
        }
      ],
      "source": [
        "def lista_resultado(n):\n",
        "    lista = []\n",
        "    for i in range(0,n):\n",
        "        lista.insert(0,i)\n",
        "    return lista\n",
        "\n",
        "print(lista_resultado(5))"
      ]
    },
    {
      "cell_type": "code",
      "execution_count": 8,
      "metadata": {},
      "outputs": [
        {
          "name": "stdout",
          "output_type": "stream",
          "text": [
            "1900 ->OK\n",
            "2000 ->OK\n",
            "2016 ->OK\n",
            "1987 ->OK\n"
          ]
        }
      ],
      "source": [
        "# Funcion para años biciestos\n",
        "def bisiesto(año):\n",
        "    if (año % 4 == 0 and año % 100 != 0) or (año % 400 == 0 and año % 400 == 0):\n",
        "        return True\n",
        "    else: \n",
        "        return False\n",
        "\n",
        "años_prueba = [1900,2000,2016,1987]\n",
        "resultados_prueba = [False,True, True, False]\n",
        "\n",
        "for i in range(len(años_prueba)):\n",
        "    año = años_prueba[i]\n",
        "    print(año, \"->\", end=\"\")\n",
        "    resultado = bisiesto(año)\n",
        "    if resultado == resultados_prueba[i]:\n",
        "        print(\"OK\")\n",
        "    else:\n",
        "        print(\"Fallido\")\n",
        "\n"
      ]
    },
    {
      "cell_type": "code",
      "execution_count": 25,
      "metadata": {},
      "outputs": [
        {
          "name": "stdout",
          "output_type": "stream",
          "text": [
            "1900 2 -> OK\n",
            "2000 2 -> OK\n",
            "2016 1 -> OK\n",
            "1987 Temach -> Fallido\n"
          ]
        }
      ],
      "source": [
        "#Dias del mes en año seleccionado.\n",
        "\n",
        "año_normal = [31, 28, 31, 30, 31, 30, 31, 31, 30, 31, 30, 31]\n",
        "año_bisiesto = [31, 29, 31, 30, 31, 30, 31, 31, 30, 31, 30, 31]\n",
        "\n",
        "def bisiesto(año):\n",
        "    if (año % 4 == 0 and año % 100 != 0) or (año % 400 == 0 and año % 400 == 0):\n",
        "        return True\n",
        "    else: \n",
        "        return False\n",
        "\n",
        "#Funcion  retorna None si hay incongruencia de argumentos\n",
        "def dias_mes(año, mes):\n",
        "    if isinstance(año, int) and isinstance(mes,int):\n",
        "        if bisiesto(año):\n",
        "            dias = año_bisiesto[mes - 1]\n",
        "        else:\n",
        "            dias = año_normal[mes-1]\n",
        "        return dias\n",
        "    else:\n",
        "        return None\n",
        "    \n",
        "\n",
        "test_years = [1900, 2000, 2016, 1987]\n",
        "test_months = [2, 2, 1, \"Temach\"]\n",
        "test_results = [28, 29, 31, 30]\n",
        "\n",
        "for i in range(len(test_years)):\n",
        "    years = test_years[i]\n",
        "    mes = test_months[i]\n",
        "    print(years,mes,\"-> \", end = \"\")\n",
        "    resultado = dias_mes(years,mes)\n",
        "    if resultado == test_results[i]:\n",
        "        print(\"OK\")\n",
        "    else:\n",
        "        print(\"Fallido\")\n"
      ]
    },
    {
      "cell_type": "code",
      "execution_count": 42,
      "metadata": {},
      "outputs": [
        {
          "name": "stdout",
          "output_type": "stream",
          "text": [
            "71\n"
          ]
        }
      ],
      "source": [
        "#Dia del año\n",
        "\n",
        "año_normal = [31, 28, 31, 30, 31, 30, 31, 31, 30, 31, 30, 31]\n",
        "año_bisiesto = [31, 29, 31, 30, 31, 30, 31, 31, 30, 31, 30, 31]\n",
        "\n",
        "def bisiesto(año):\n",
        "    if (año % 4 == 0 and año % 100 != 0) or (año % 400 == 0 and año % 400 == 0):\n",
        "        return True\n",
        "    else: \n",
        "        return False\n",
        "\n",
        "#Funcion  retorna None si hay incongruencia de argumentos\n",
        "def dias_mes(año, mes):\n",
        "    if isinstance(año, int) and isinstance(mes,int):\n",
        "        if bisiesto(año):\n",
        "            dias = año_bisiesto[mes - 1]\n",
        "        else:\n",
        "            dias = año_normal[mes-1]\n",
        "        return dias\n",
        "    else:\n",
        "        return None\n",
        "# Conteo de dias\n",
        "def dia_año(año, mes, dia):\n",
        "    if isinstance(año,int) and isinstance(mes,int) and isinstance(dia,int):\n",
        "        dias_total = 0\n",
        "        if mes > 1:\n",
        "            for i in range(mes-1):\n",
        "                dias_total += dias_mes(año,i)\n",
        "            dias_total += dia \n",
        "            return dias_total\n",
        "        else:\n",
        "            dias_total += dia \n",
        "            return dias_total\n",
        "    else:\n",
        "        return None\n",
        "\n",
        "#Prueba\n",
        "print(dia_año(2023,3,9))\n"
      ]
    },
    {
      "cell_type": "code",
      "execution_count": 5,
      "metadata": {},
      "outputs": [
        {
          "name": "stdout",
          "output_type": "stream",
          "text": [
            "2 3 5 7 11 13 17 19 23 29 31 37 41 43 47 "
          ]
        }
      ],
      "source": [
        "#Numero primos\n",
        "def primos(numero):\n",
        "    contador = 0\n",
        "    if numero > 1:\n",
        "        for i in range(numero):\n",
        "            if numero % (1+i) == 0:\n",
        "                contador += 1\n",
        "        if contador > 2:\n",
        "            return False\n",
        "        else:\n",
        "            return True\n",
        "    else:\n",
        "        return False\n",
        "\n",
        "for i in range(1,50):\n",
        "    if primos(i):\n",
        "        print(i, end = \" \")\n"
      ]
    },
    {
      "cell_type": "code",
      "execution_count": null,
      "metadata": {},
      "outputs": [],
      "source": [
        "#Consumo de combustible - Por resolver\n",
        "\n",
        "'''El consumo de combustible de un automóvil se puede expresar de muchas maneras diferentes. Por ejemplo, en Europa, se muestra como la cantidad de combustible consumido por cada 100 kilómetros.\n",
        "\n",
        "En los EE. UU., se muestra como la cantidad de millas recorridas por un automóvil con un galón de combustible.\n",
        "\n",
        "Tu tarea es escribir un par de funciones que conviertan l/100km a mpg (milas por galón), y viceversa.\n",
        "\n",
        "Las funciones:\n",
        "\n",
        "Se llaman liters_100km_to_miles_gallon y miles_gallon_to_liters_100km respectivamente.\n",
        "Toman un argumento (el valor correspondiente a sus nombres).\n",
        "Complementa el código en el editor.\n",
        "\n",
        "Ejecuta tu código y verifica si tu salida es la misma que la nuestra.\n",
        "\n",
        "Aquí hay información para ayudarte:\n",
        "\n",
        "1 milla = 1609.344 metros.\n",
        "1 galón = 3.785411784 litros.\n",
        "\n",
        "\n",
        "def liters_100km_to_miles_gallon(liters_per_100km):\n",
        "    \n",
        "\n",
        "def miles_gallon_to_liters_100km(miles_per_gallon):\n",
        "  \n",
        "\n",
        "print(liters_100km_to_miles_gallon(3.9))\n",
        "print(liters_100km_to_miles_gallon(7.5))\n",
        "print(liters_100km_to_miles_gallon(10.))\n",
        "print(miles_gallon_to_liters_100km(60.3))\n",
        "print(miles_gallon_to_liters_100km(31.4))\n",
        "print(miles_gallon_to_liters_100km(23.5))'''\n",
        "\n",
        "''' 60.31143162393162\n",
        "31.36194444444444\n",
        "23.52145833333333\n",
        "3.9007393587617467\n",
        "7.490910297239916\n",
        "10.009131205673757'''"
      ]
    },
    {
      "cell_type": "code",
      "execution_count": 4,
      "metadata": {},
      "outputs": [
        {
          "name": "stdout",
          "output_type": "stream",
          "text": [
            "1\n",
            "¿Conozco a aquella variable? 2\n",
            "2\n"
          ]
        }
      ],
      "source": [
        "def my_function():\n",
        "    global var\n",
        "    var = 2\n",
        "    print(\"¿Conozco a aquella variable?\", var)\n",
        "\n",
        "\n",
        "var = 1\n",
        "print(var)\n",
        "my_function()\n",
        "print(var)"
      ]
    },
    {
      "cell_type": "code",
      "execution_count": 9,
      "metadata": {},
      "outputs": [
        {
          "name": "stdout",
          "output_type": "stream",
          "text": [
            "28.124999999999993\n"
          ]
        }
      ],
      "source": [
        "#Indice de masa corporal - parametro none\n",
        "def imc(peso_kilos,altura_metros):\n",
        "    if isinstance(peso_kilos,(float, int)) and isinstance(altura_metros,(float, int)):\n",
        "        return peso_kilos/altura_metros**2\n",
        "    else: \n",
        "        return None\n",
        "    \n",
        "print(imc(72,1.60))"
      ]
    },
    {
      "cell_type": "code",
      "execution_count": 21,
      "metadata": {},
      "outputs": [
        {
          "data": {
            "text/plain": [
              "3"
            ]
          },
          "execution_count": 21,
          "metadata": {},
          "output_type": "execute_result"
        }
      ],
      "source": [
        "# Recursividad en serie de fibonacci\n",
        "def fib(n):\n",
        "    if n < 1:\n",
        "        return None\n",
        "    if n < 3:\n",
        "        return 1\n",
        "    return fib(n-1) + fib(n-2)\n",
        "\n",
        "fib(4)\n"
      ]
    },
    {
      "cell_type": "code",
      "execution_count": 23,
      "metadata": {},
      "outputs": [
        {
          "data": {
            "text/plain": [
              "120"
            ]
          },
          "execution_count": 23,
          "metadata": {},
          "output_type": "execute_result"
        }
      ],
      "source": [
        "# Recursividad - factoriales\n",
        "def factorial(n):\n",
        "    if n < 0:\n",
        "        return None\n",
        "    if n < 2:\n",
        "        return 1\n",
        "    return n * factorial(n-1)\n",
        "\n",
        "factorial(5)"
      ]
    },
    {
      "cell_type": "code",
      "execution_count": 5,
      "metadata": {},
      "outputs": [
        {
          "name": "stdout",
          "output_type": "stream",
          "text": [
            "(1, 2, 3, 4, 5)\n",
            "(6, 7, 8, 9, 10)\n"
          ]
        }
      ],
      "source": [
        "#Tuplas\n",
        "tupla = (1,2,3,4,5)\n",
        "tupla2 = 6,7,8,9,10\n",
        "print(tupla)\n",
        "print(tupla2)"
      ]
    },
    {
      "cell_type": "code",
      "execution_count": 6,
      "metadata": {},
      "outputs": [
        {
          "name": "stdout",
          "output_type": "stream",
          "text": [
            "()\n"
          ]
        }
      ],
      "source": [
        "#Tupla vacia\n",
        "vacia = ()\n",
        "print(vacia)"
      ]
    },
    {
      "cell_type": "code",
      "execution_count": 8,
      "metadata": {},
      "outputs": [
        {
          "name": "stdout",
          "output_type": "stream",
          "text": [
            "(1,)\n",
            "(2,)\n"
          ]
        }
      ],
      "source": [
        "#Tupla de un solo elemento\n",
        "uno = (1,)\n",
        "dos = 2,\n",
        "print(uno)\n",
        "print(dos)"
      ]
    },
    {
      "cell_type": "code",
      "execution_count": 9,
      "metadata": {},
      "outputs": [
        {
          "name": "stdout",
          "output_type": "stream",
          "text": [
            "1\n",
            "2\n",
            "3\n",
            "4\n",
            "5\n"
          ]
        }
      ],
      "source": [
        "for elemento in tupla:\n",
        "    print(elemento)"
      ]
    },
    {
      "cell_type": "code",
      "execution_count": 14,
      "metadata": {},
      "outputs": [
        {
          "name": "stdout",
          "output_type": "stream",
          "text": [
            "(2,) (3, 123) (1,)\n"
          ]
        }
      ],
      "source": [
        "var = 123\n",
        "t1 = (1,)\n",
        "t2 = (2,)\n",
        "t3 = (3, var)\n",
        "\n",
        "t1, t2, t3 = t2, t3, t1\n",
        "\n",
        "print(t1,t2,t3)"
      ]
    },
    {
      "cell_type": "code",
      "execution_count": 17,
      "metadata": {},
      "outputs": [
        {
          "name": "stdout",
          "output_type": "stream",
          "text": [
            "(1, 10, 100, 1000, 10000)\n",
            "(1, 10, 100, 1, 10, 100, 1, 10, 100)\n",
            "9\n",
            "True\n",
            "True\n"
          ]
        }
      ],
      "source": [
        "#Algunos operadores de la tupla\n",
        "tupla = (1,10,100)\n",
        "t1 = tupla + (1000,10000)\n",
        "t2 = tupla * 3\n",
        "\n",
        "print(t1)\n",
        "print(t2)\n",
        "print(len(t2))\n",
        "print(10 in tupla)\n",
        "print(-10 not in tupla)\n"
      ]
    },
    {
      "cell_type": "code",
      "execution_count": 18,
      "metadata": {},
      "outputs": [
        {
          "name": "stdout",
          "output_type": "stream",
          "text": [
            "{'gato': 'chat', 'perro': 'chien', 'caballo': 'cheval'}\n",
            "{'jefe': 5551234567, 'suzy': 22657854310}\n",
            "{}\n"
          ]
        }
      ],
      "source": [
        "# Creacion de diccionarios\n",
        "diccionario = {\"gato\":\"chat\", \"perro\":\"chien\", \"caballo\":\"cheval\"}\n",
        "numeros_telefono = {\"jefe\":5551234567, \"suzy\":22657854310}\n",
        "vacio = {}\n",
        "\n",
        "\n",
        "print(diccionario)\n",
        "print(numeros_telefono)\n",
        "print(vacio)"
      ]
    },
    {
      "cell_type": "code",
      "execution_count": 20,
      "metadata": {},
      "outputs": [
        {
          "name": "stdout",
          "output_type": "stream",
          "text": [
            "chat\n",
            "22657854310\n"
          ]
        }
      ],
      "source": [
        "print(diccionario['gato'])\n",
        "print(numeros_telefono['suzy'])"
      ]
    },
    {
      "cell_type": "code",
      "execution_count": 32,
      "metadata": {},
      "outputs": [
        {
          "name": "stdout",
          "output_type": "stream",
          "text": [
            "gato --> chat\n",
            "león no esta en el diccionario\n",
            "caballo --> cheval\n"
          ]
        }
      ],
      "source": [
        "#Ejemplo de un diccionario\n",
        "'''Formato sangria francesa'''\n",
        "dictionary = {\"gato\" : \"chat\",\n",
        "              \"perro\" : \"chien\",\n",
        "              \"caballo\" : \"cheval\"}\n",
        "             \n",
        "words = ['gato', 'león', 'caballo']\n",
        "\n",
        "for word in words:\n",
        "    if word in dictionary:\n",
        "        print(word, \"-->\", dictionary[word])\n",
        "    else:\n",
        "        print(word, \"no esta en el diccionario\")"
      ]
    },
    {
      "cell_type": "code",
      "execution_count": 33,
      "metadata": {},
      "outputs": [
        {
          "name": "stdout",
          "output_type": "stream",
          "text": [
            "gato ---> chat\n",
            "perro ---> chien\n",
            "caballo ---> cheval\n"
          ]
        }
      ],
      "source": [
        "#Metodo keys()\n",
        "dictionary = {\"gato\" : \"chat\", \"perro\" : \"chien\", \"caballo\" : \"cheval\"}\n",
        "\n",
        "for key in dictionary.keys():\n",
        "    print(key, \"--->\", dictionary[key])"
      ]
    },
    {
      "cell_type": "code",
      "execution_count": 34,
      "metadata": {},
      "outputs": [
        {
          "name": "stdout",
          "output_type": "stream",
          "text": [
            "caballo ---> cheval\n",
            "gato ---> chat\n",
            "perro ---> chien\n"
          ]
        }
      ],
      "source": [
        "#Funcion sorted: trata de ordenar lo mejor posible\n",
        "dictionary = {\"gato\" : \"chat\", \"perro\" : \"chien\", \"caballo\" : \"cheval\"}\n",
        "\n",
        "for key in sorted(dictionary.keys()):\n",
        "    print(key, \"--->\",dictionary[key])"
      ]
    },
    {
      "cell_type": "code",
      "execution_count": 36,
      "metadata": {},
      "outputs": [
        {
          "name": "stdout",
          "output_type": "stream",
          "text": [
            "gato --> chat\n",
            "perro --> chien\n",
            "caballo --> cheval\n"
          ]
        }
      ],
      "source": [
        "#Metodo items\n",
        "dictionary = {\"gato\" : \"chat\", \"perro\" : \"chien\", \"caballo\" : \"cheval\"}\n",
        "\n",
        "for spanish, french in dictionary.items():\n",
        "    print(spanish, \"-->\", french)"
      ]
    },
    {
      "cell_type": "code",
      "execution_count": 37,
      "metadata": {},
      "outputs": [
        {
          "name": "stdout",
          "output_type": "stream",
          "text": [
            "chat\n",
            "chien\n",
            "cheval\n"
          ]
        }
      ],
      "source": [
        "#Metodo values\n",
        "dictionary = {\"gato\" : \"chat\", \"perro\" : \"chien\", \"caballo\" : \"cheval\"}\n",
        "\n",
        "for french in dictionary.values():\n",
        "    print(french)"
      ]
    },
    {
      "cell_type": "code",
      "execution_count": 38,
      "metadata": {},
      "outputs": [
        {
          "name": "stdout",
          "output_type": "stream",
          "text": [
            "{'gato': 'chat', 'perro': 'chien', 'caballo': 'cheval'}\n",
            "{'gato': 'minou', 'perro': 'chien', 'caballo': 'cheval'}\n"
          ]
        }
      ],
      "source": [
        "# Modificar diccionarios\n",
        "print(dictionary)\n",
        "dictionary[\"gato\"] = \"minou\"\n",
        "print(dictionary)"
      ]
    },
    {
      "cell_type": "code",
      "execution_count": 39,
      "metadata": {},
      "outputs": [
        {
          "name": "stdout",
          "output_type": "stream",
          "text": [
            "{'gato': 'minou', 'perro': 'chien', 'caballo': 'cheval'}\n",
            "{'gato': 'minou', 'perro': 'chien', 'caballo': 'cheval', 'cisne': 'cygne'}\n"
          ]
        }
      ],
      "source": [
        "# Agregar clavez nuevas\n",
        "print(dictionary)\n",
        "dictionary[\"cisne\"] = \"cygne\"\n",
        "print(dictionary)"
      ]
    },
    {
      "cell_type": "code",
      "execution_count": 40,
      "metadata": {},
      "outputs": [
        {
          "name": "stdout",
          "output_type": "stream",
          "text": [
            "{'gato': 'chat', 'perro': 'chien', 'caballo': 'cheval', 'yishen': 'con', 'liz': 'mercado'}\n"
          ]
        }
      ],
      "source": [
        "#Metodo update\n",
        "dictionary = {\"gato\" : \"chat\", \"perro\" : \"chien\", \"caballo\" : \"cheval\"}\n",
        "\n",
        "dictionary.update({\"yishen\":\"con\", \"liz\":\"mercado\"})\n",
        "print(dictionary)"
      ]
    },
    {
      "cell_type": "code",
      "execution_count": 44,
      "metadata": {},
      "outputs": [
        {
          "name": "stdout",
          "output_type": "stream",
          "text": [
            "{'gato': 'chat', 'caballo': 'cheval'}\n"
          ]
        }
      ],
      "source": [
        "#Eliminar par\n",
        "dictionary = {\"gato\" : \"chat\", \"perro\" : \"chien\", \"caballo\" : \"cheval\"}\n",
        "\n",
        "del dictionary[\"perro\"]\n",
        "print(dictionary)"
      ]
    },
    {
      "cell_type": "code",
      "execution_count": 78,
      "metadata": {},
      "outputs": [
        {
          "name": "stdout",
          "output_type": "stream",
          "text": [
            "{'gato': 'chat', 'perro': 'chien'}\n"
          ]
        }
      ],
      "source": [
        "# Eliminar el ultimo elemento del diccionario con popitem()\n",
        "dictionary = {\"gato\" : \"chat\", \"perro\" : \"chien\", \"caballo\" : \"cheval\"}\n",
        "dictionary.popitem()\n",
        "print(dictionary)"
      ]
    },
    {
      "cell_type": "code",
      "execution_count": 60,
      "metadata": {},
      "outputs": [
        {
          "name": "stdout",
          "output_type": "stream",
          "text": [
            "magaly : 9.0\n",
            "yishen : 10.0\n"
          ]
        }
      ],
      "source": [
        "# Uso de listas y diccionarios juntos\n",
        "school_class = {}\n",
        "\n",
        "while True:\n",
        "    name = input(\"Ingresa el nombre del estudiante: \")\n",
        "    if name == '':\n",
        "        break\n",
        "    score = int(input(\"Ingresa las calificaciones del estudiante: \"))\n",
        "    if score not in range(1,11):\n",
        "        break\n",
        "    if name in school_class:\n",
        "        school_class[name] += (score,)\n",
        "    else:\n",
        "        school_class[name] = (score,)\n",
        "\n",
        "for name in sorted(school_class.keys()):\n",
        "    adding = 0\n",
        "    counter = 0\n",
        "    for score in school_class[name]:\n",
        "        adding += score\n",
        "        counter += 1\n",
        "    print(name, \":\" , adding/counter)"
      ]
    },
    {
      "cell_type": "code",
      "execution_count": 70,
      "metadata": {},
      "outputs": [
        {
          "data": {
            "text/plain": [
              "(1, 2, 3)"
            ]
          },
          "execution_count": 70,
          "metadata": {},
          "output_type": "execute_result"
        }
      ],
      "source": [
        "#Crear tupla con funcion tuple\n",
        "tuple((1,2,3,))"
      ]
    },
    {
      "cell_type": "code",
      "execution_count": 76,
      "metadata": {},
      "outputs": [
        {
          "name": "stdout",
          "output_type": "stream",
          "text": [
            "{'gato': 'chat', 'perro': 'chien'}\n",
            "chat\n",
            "chien\n"
          ]
        }
      ],
      "source": [
        "print(dictionary)\n",
        "print(dictionary[\"gato\"])\n",
        "print(dictionary.get(\"perro\"))"
      ]
    },
    {
      "cell_type": "code",
      "execution_count": 79,
      "metadata": {},
      "outputs": [
        {
          "name": "stdout",
          "output_type": "stream",
          "text": [
            "{'gato': 'chat', 'perro': 'chien'}\n",
            "{'perro': 'chien'}\n"
          ]
        }
      ],
      "source": [
        "print(dictionary)\n",
        "del dictionary[\"gato\"]\n",
        "print(dictionary)"
      ]
    },
    {
      "cell_type": "code",
      "execution_count": 84,
      "metadata": {},
      "outputs": [
        {
          "name": "stdout",
          "output_type": "stream",
          "text": [
            "{'zamek': 'castillo', 'woda': 'agua', 'gleba': 'tierra'}\n",
            "{'woda': 'agua', 'gleba': 'tierra'}\n",
            "{}\n",
            "{'zamek': 'castillo', 'woda': 'agua', 'gleba': 'tierra'}\n"
          ]
        }
      ],
      "source": [
        "# metodo clear, copy y del\n",
        "pol_esp_dictionary = {\n",
        "    \"zamek\" : \"castillo\",\n",
        "    \"woda\"  : \"agua\",\n",
        "    \"gleba\" : \"tierra\"\n",
        "    }\n",
        "copia = pol_esp_dictionary.copy()\n",
        "print(pol_esp_dictionary)\n",
        "del pol_esp_dictionary[\"zamek\"]\n",
        "print(pol_esp_dictionary)\n",
        "pol_esp_dictionary.clear()\n",
        "print(pol_esp_dictionary)\n",
        "del pol_esp_dictionary\n",
        "print(copia)\n"
      ]
    },
    {
      "cell_type": "code",
      "execution_count": 87,
      "metadata": {},
      "outputs": [
        {
          "data": {
            "text/plain": [
              "4"
            ]
          },
          "execution_count": 87,
          "metadata": {},
          "output_type": "execute_result"
        }
      ],
      "source": [
        "#Metodo count()\n",
        "(1,2,3,4,5,6,6,6,6,7,8,9).count(6)"
      ]
    },
    {
      "cell_type": "code",
      "execution_count": 95,
      "metadata": {},
      "outputs": [
        {
          "name": "stdout",
          "output_type": "stream",
          "text": [
            "{'Adam Smith': 'A', 'Judy Paxton': 'B+'}\n",
            "{'Mary Louis': 'A', 'Patrick White': 'C'}\n",
            "*********************************************\n",
            "{'Adam Smith': 'A', 'Judy Paxton': 'B+'}\n",
            "{'Mary Louis': 'A', 'Patrick White': 'C'}\n",
            "*********************************************\n",
            "{'Adam Smith': 'A', 'Judy Paxton': 'B+', 'Mary Louis': 'A', 'Patrick White': 'C'}\n"
          ]
        }
      ],
      "source": [
        "d1 = {'Adam Smith': 'A', 'Judy Paxton': 'B+'}\n",
        "d2 = {'Mary Louis': 'A', 'Patrick White': 'C'}\n",
        "d3 = {}\n",
        "print(d1)\n",
        "print(d2)\n",
        "print(\"***\"*15)\n",
        "for item in (d1,d2):\n",
        "    print(item)\n",
        "    d3.update(item)\n",
        "\n",
        "print(\"***\"*15)\n",
        "print(d3)"
      ]
    },
    {
      "cell_type": "code",
      "execution_count": 97,
      "metadata": {},
      "outputs": [
        {
          "name": "stdout",
          "output_type": "stream",
          "text": [
            "(('green', '#008000'), ('blue', '#0000FF'))\n",
            "{'green': '#008000', 'blue': '#0000FF'}\n"
          ]
        }
      ],
      "source": [
        "#Convertir tupla a dicionario\n",
        "colors = ((\"green\", \"#008000\"), (\"blue\", \"#0000FF\"))\n",
        "print(colors)\n",
        "\n",
        "diccionario = dict(colors)\n",
        "print(diccionario)"
      ]
    },
    {
      "cell_type": "code",
      "execution_count": 101,
      "metadata": {},
      "outputs": [
        {
          "name": "stdout",
          "output_type": "stream",
          "text": [
            "No se que hacer con:  smurfcat\n"
          ]
        }
      ],
      "source": [
        "#Ejemplo de try, except\n",
        "\n",
        "try:\n",
        "    value = input(\"Ingresa un numero natural: \")\n",
        "    print(\"El reciproco de \", value, \" es \", 1/int(value))\n",
        "except:\n",
        "    print(\"No se que hacer con: \", value)"
      ]
    },
    {
      "cell_type": "code",
      "execution_count": 108,
      "metadata": {},
      "outputs": [
        {
          "name": "stdout",
          "output_type": "stream",
          "text": [
            "No se que hacer con  $\n"
          ]
        }
      ],
      "source": [
        "try:\n",
        "    value = input(\"Ingresa un numero natural: \")\n",
        "    print(\"El reciproco de \", value, \" es \", 1/int(value))\n",
        "except ValueError:\n",
        "    print(\"No se que hacer con \", value)\n",
        "except ZeroDivisionError:\n",
        "    print(\"La division entre zero no esta permitida en nuestro universo\")\n",
        "except:\n",
        "    print('Ha sucedido algo extraño, ¡lo siento!')"
      ]
    },
    {
      "cell_type": "code",
      "execution_count": 111,
      "metadata": {},
      "outputs": [
        {
          "name": "stdout",
          "output_type": "stream",
          "text": [
            "No se que hacer con  0\n"
          ]
        }
      ],
      "source": [
        "try:\n",
        "    value = input(\"Ingresa un numero natural: \")\n",
        "    print(\"El reciproco de \", value, \" es \", 1/int(value))\n",
        "except (ValueError,ZeroDivisionError):\n",
        "    print(\"No se que hacer con \", value)\n",
        "except:\n",
        "    print('Ha sucedido algo extraño, ¡lo siento!')"
      ]
    },
    {
      "cell_type": "code",
      "execution_count": 115,
      "metadata": {},
      "outputs": [
        {
          "name": "stdout",
          "output_type": "stream",
          "text": [
            "Entrada errónea...\n"
          ]
        }
      ],
      "source": [
        "try:\n",
        "    value = int(input(\"Ingresa un número entero: \"))\n",
        "    print(value/value)\n",
        "except ValueError:\n",
        "    print(\"Entrada incorrecta...\")\n",
        "except ZeroDivisionError:\n",
        "    print(\"Entrada errónea...\")\n",
        "except:\n",
        "    print(\"¡Buuuu!\")"
      ]
    },
    {
      "cell_type": "code",
      "execution_count": 125,
      "metadata": {},
      "outputs": [
        {
          "name": "stdout",
          "output_type": "stream",
          "text": [
            "1\n",
            "5\n",
            "7\n",
            "6\n",
            "4\n"
          ]
        }
      ],
      "source": [
        "#Funcion randrange\n",
        "from random import randrange\n",
        "\n",
        "for i in range(5):\n",
        "    print(randrange(8))"
      ]
    }
  ],
  "metadata": {
    "colab": {
      "provenance": []
    },
    "kernelspec": {
      "display_name": "Python 3",
      "name": "python3"
    },
    "language_info": {
      "codemirror_mode": {
        "name": "ipython",
        "version": 3
      },
      "file_extension": ".py",
      "mimetype": "text/x-python",
      "name": "python",
      "nbconvert_exporter": "python",
      "pygments_lexer": "ipython3",
      "version": "3.11.4"
    }
  },
  "nbformat": 4,
  "nbformat_minor": 0
}
